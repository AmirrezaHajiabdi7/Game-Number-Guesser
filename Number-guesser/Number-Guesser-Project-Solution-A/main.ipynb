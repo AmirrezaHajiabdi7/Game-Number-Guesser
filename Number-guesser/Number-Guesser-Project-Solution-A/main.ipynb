{
 "cells": [
  {
   "cell_type": "code",
   "execution_count": null,
   "id": "d7120290",
   "metadata": {},
   "outputs": [],
   "source": [
    "import random"
   ]
  },
  {
   "cell_type": "code",
   "execution_count": null,
   "id": "96d92195",
   "metadata": {},
   "outputs": [],
   "source": [
    "rand_num = random.randint(1,100)"
   ]
  },
  {
   "cell_type": "code",
   "execution_count": null,
   "id": "1baddc1d",
   "metadata": {},
   "outputs": [],
   "source": [
    "def validate_input (input_num) :\n",
    "    if not input_num.isdigit():\n",
    "        print (\"'Invalid input. Please enter a number.\")\n",
    "        return False\n",
    "    \n",
    "    input_num = int(input_num)\n",
    "    \n",
    "    if input_num > 100 or input_num < 1 :\n",
    "        print (\"Invalid input. Please enter a number between 1 and 100.\")\n",
    "        return False\n",
    "    return True"
   ]
  },
  {
   "cell_type": "code",
   "execution_count": 8,
   "id": "39e440f3",
   "metadata": {},
   "outputs": [
    {
     "ename": "NameError",
     "evalue": "name 'rand_num' is not defined",
     "output_type": "error",
     "traceback": [
      "\u001b[31m---------------------------------------------------------------------------\u001b[39m",
      "\u001b[31mNameError\u001b[39m                                 Traceback (most recent call last)",
      "\u001b[36mCell\u001b[39m\u001b[36m \u001b[39m\u001b[32mIn[8]\u001b[39m\u001b[32m, line 15\u001b[39m\n\u001b[32m     10\u001b[39m     \u001b[38;5;28;01mcontinue\u001b[39;00m\n\u001b[32m     12\u001b[39m input_num = \u001b[38;5;28mint\u001b[39m(input_num)\n\u001b[32m---> \u001b[39m\u001b[32m15\u001b[39m \u001b[38;5;28;01mif\u001b[39;00m input_num == \u001b[43mrand_num\u001b[49m :\n\u001b[32m     16\u001b[39m     \u001b[38;5;28mprint\u001b[39m (\u001b[33mf\u001b[39m\u001b[33m\"\u001b[39m\u001b[33mYou guessed correctly! Your score is: \u001b[39m\u001b[38;5;132;01m{\u001b[39;00mscore\u001b[38;5;132;01m}\u001b[39;00m\u001b[33m\"\u001b[39m)\n\u001b[32m     17\u001b[39m     wana_play = \u001b[38;5;28minput\u001b[39m (\u001b[33m\"\u001b[39m\u001b[33mdo you play agian ? (y/n)\u001b[39m\u001b[33m\"\u001b[39m)\n",
      "\u001b[31mNameError\u001b[39m: name 'rand_num' is not defined"
     ]
    }
   ],
   "source": [
    "score = 100\n",
    "while True :\n",
    "    input_num = (input(\"Please enter your gues :\")).strip()\n",
    "\n",
    "    if input_num == 'q' :\n",
    "        print (\"good by friend\")\n",
    "        break\n",
    "\n",
    "    if not validate_input(input_num):\n",
    "        continue\n",
    "\n",
    "    input_num = int(input_num)\n",
    "\n",
    "\n",
    "    if input_num == rand_num :\n",
    "        print (f\"You guessed correctly! Your score is: {score}\")\n",
    "        wana_play = input (\"do you play agian ? (y/n)\")\n",
    "        if wana_play == 'y' :\n",
    "            rand_num = random.randint (1,100)\n",
    "            score = 100\n",
    "            continue\n",
    "        else :\n",
    "            print ('good by !')\n",
    "            break\n",
    "    elif input_num > rand_num :\n",
    "        print (\"your number  is larges\")\n",
    "    else :\n",
    "        print(\"your number is smaller \")\n",
    "\n",
    "    score -= 10\n",
    "    score = max (score,0)\n",
    "\n",
    "    \n",
    "\n",
    "\n"
   ]
  },
  {
   "cell_type": "code",
   "execution_count": null,
   "id": "7abcd587",
   "metadata": {},
   "outputs": [],
   "source": []
  }
 ],
 "metadata": {
  "kernelspec": {
   "display_name": "python-project",
   "language": "python",
   "name": "python3"
  },
  "language_info": {
   "codemirror_mode": {
    "name": "ipython",
    "version": 3
   },
   "file_extension": ".py",
   "mimetype": "text/x-python",
   "name": "python",
   "nbconvert_exporter": "python",
   "pygments_lexer": "ipython3",
   "version": "3.12.11"
  }
 },
 "nbformat": 4,
 "nbformat_minor": 5
}
